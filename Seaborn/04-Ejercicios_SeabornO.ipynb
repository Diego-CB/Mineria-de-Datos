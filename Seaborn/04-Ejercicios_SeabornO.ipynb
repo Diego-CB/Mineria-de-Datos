{
 "cells": [
  {
   "cell_type": "markdown",
   "id": "cfca9040-1a5f-4f0b-9a59-7db5c50d4d67",
   "metadata": {},
   "source": [
    "# Hoja de trabajo adicional sobre Objetos de Seaborn"
   ]
  },
  {
   "cell_type": "markdown",
   "id": "2555654d-643a-42d7-b019-ed955cc88fe7",
   "metadata": {},
   "source": [
    "## Importar librerías"
   ]
  },
  {
   "cell_type": "code",
   "execution_count": 2,
   "id": "6ea4c3af-40e5-469d-b41c-51eb132ebf93",
   "metadata": {},
   "outputs": [],
   "source": [
    "import seaborn as sns\n",
    "import seaborn.objects as sbo\n",
    "import matplotlib.pyplot as plt\n"
   ]
  },
  {
   "cell_type": "markdown",
   "id": "571a98e2-90b9-4e88-bbed-f38d72fdd294",
   "metadata": {},
   "source": [
    "## Importar Datos"
   ]
  },
  {
   "cell_type": "markdown",
   "id": "134875a1-586f-48ce-a82f-de6a7ffed1d3",
   "metadata": {},
   "source": [
    "## Crear un histograma"
   ]
  },
  {
   "cell_type": "markdown",
   "id": "ad7e22bf-d92e-473d-a370-c8fa7d84e142",
   "metadata": {},
   "source": [
    "## Crear una gráfica de dispersión"
   ]
  },
  {
   "cell_type": "markdown",
   "id": "45fa1726-6dc7-4acb-b211-67c335e19c67",
   "metadata": {},
   "source": [
    "## Crear una gráfica de línea"
   ]
  },
  {
   "cell_type": "markdown",
   "id": "a2c663cc-a5e4-480a-ac3f-57bb8e23e790",
   "metadata": {},
   "source": [
    "## Crear una gráfica de barras"
   ]
  },
  {
   "cell_type": "markdown",
   "id": "01fa4569-9b63-4f5c-a1ee-644d36b6844d",
   "metadata": {},
   "source": [
    "## Crear una gráfica de caja con bigotes"
   ]
  },
  {
   "cell_type": "markdown",
   "id": "a9dc172b-98ca-44e4-bbe1-ef607c61bee1",
   "metadata": {},
   "source": [
    "## Crear una gráfica de violín"
   ]
  },
  {
   "cell_type": "markdown",
   "id": "8d90bdc0-3f5e-4d1a-830a-c04959ab58da",
   "metadata": {},
   "source": [
    "## Crear un mapa de calor"
   ]
  },
  {
   "cell_type": "markdown",
   "id": "62cc138c-16b5-4546-a369-66cca78e7219",
   "metadata": {},
   "source": [
    "## Crear una malla de facetas"
   ]
  },
  {
   "cell_type": "markdown",
   "id": "26eae306-cb0d-4e1f-b61f-b6339f353068",
   "metadata": {},
   "source": [
    "## Crear una gráfica de unión"
   ]
  },
  {
   "cell_type": "markdown",
   "id": "4c74b15e-598b-4f2b-85e9-26e9cda5d80a",
   "metadata": {},
   "source": [
    "## Crear una gráfica de gato"
   ]
  },
  {
   "cell_type": "markdown",
   "id": "417e3ccd-df7a-4cf8-b90d-1184c9841c8f",
   "metadata": {},
   "source": [
    "## Crear una gráfica de modelo lineal"
   ]
  },
  {
   "cell_type": "markdown",
   "id": "1e12fe87-a3cf-4494-b548-46a5b9c1ccbe",
   "metadata": {},
   "source": [
    "## Guardar una gráfica"
   ]
  },
  {
   "cell_type": "markdown",
   "id": "e7272d21-5de9-48e1-b371-ee2ccc7b2f83",
   "metadata": {},
   "source": [
    "### Esta hoja de trabajo cubre algunos de los objetos de Seaborn y su uso. Puede probar estos ejemplos y explorar otras funciones de Seaborn para crear visualizaciones más sofisticadas.\n",
    "\n",
    "\n"
   ]
  },
  {
   "cell_type": "code",
   "execution_count": null,
   "id": "928aaea5-8a45-4e64-84b4-92a7e8bcf13f",
   "metadata": {},
   "outputs": [],
   "source": []
  }
 ],
 "metadata": {
  "kernelspec": {
   "display_name": "Python 3",
   "language": "python",
   "name": "python3"
  },
  "language_info": {
   "codemirror_mode": {
    "name": "ipython",
    "version": 3
   },
   "file_extension": ".py",
   "mimetype": "text/x-python",
   "name": "python",
   "nbconvert_exporter": "python",
   "pygments_lexer": "ipython3",
   "version": "3.10.1"
  },
  "vscode": {
   "interpreter": {
    "hash": "8fc5a091ad359cc3b60f70431fd231cd81384587ee2c0f0dace114d6a099478c"
   }
  }
 },
 "nbformat": 4,
 "nbformat_minor": 5
}
